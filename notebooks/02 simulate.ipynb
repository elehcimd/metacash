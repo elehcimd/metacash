{
 "cells": [
  {
   "cell_type": "markdown",
   "metadata": {},
   "source": [
    "## Simulate transactions and explore different scenarios"
   ]
  },
  {
   "cell_type": "code",
   "execution_count": 10,
   "metadata": {},
   "outputs": [
    {
     "name": "stdout",
     "output_type": "stream",
     "text": [
      "The autoreload extension is already loaded. To reload it, use:\n",
      "  %reload_ext autoreload\n"
     ]
    }
   ],
   "source": [
    "%load_ext autoreload\n",
    "%autoreload 2\n",
    "%reload_ext autoreload"
   ]
  },
  {
   "cell_type": "code",
   "execution_count": 11,
   "metadata": {},
   "outputs": [],
   "source": [
    "# Imports\n",
    "from metacash.labels import Labels\n",
    "from metacash.metacash import MetaCash\n",
    "from metacash.simulation.sim_transactions import SimulateAccount\n",
    "from metacash.simulation.sim_transactions import SimulateTransactions, TimestampSampler, TransactionsSampler, \\\n",
    "    AmountSampler\n",
    "from io import StringIO\n",
    "import pandas as pd\n",
    "import numpy as np\n",
    "\n",
    "from metacash.dashboards.account_overview import AccountOverview\n",
    "from metacash.dashboards.category_analysis import CategoryAnalysis\n"
   ]
  },
  {
   "cell_type": "code",
   "execution_count": 12,
   "metadata": {},
   "outputs": [
    {
     "name": "stdout",
     "output_type": "stream",
     "text": [
      "    timestamp  balance  amount currency     description type label.category\n",
      "0  2020-01-01        0       0      EUR                   ib        unknown\n",
      "1  2020-01-01  -1418.2 -1418.2      EUR         housing    t        housing\n",
      "2  2020-01-01  -1318.2     100      EUR       utilities    t        unknown\n",
      "3  2020-01-01  -1518.2    -200      EUR            food    t           food\n",
      "4  2020-01-01  -1418.2     100      EUR  transportation    t        unknown\n",
      "..        ...      ...     ...      ...             ...  ...            ...\n",
      "81 2020-12-01  4573.67    -850      EUR          health    t         health\n",
      "82 2020-12-01  7573.67    3000      EUR          income    t         income\n",
      "83 2020-12-01  7673.67     100      EUR  transportation    t        unknown\n",
      "84 2020-12-01  7573.67    -100      EUR        personal    t        unknown\n",
      "85 2020-12-01  7573.67       0      EUR                   fb        unknown\n",
      "\n",
      "[86 rows x 7 columns]\n"
     ]
    }
   ],
   "source": [
    "myf = MetaCash(\"datasets/local/complete.config.py\")\n",
    "\n",
    "ts_sampler = TimestampSampler.date_range(start=\"2020-01-01\", periods=12, freq='MS')\n",
    "sim = SimulateTransactions()\n",
    "sim = SimulateTransactions()\n",
    "\n",
    "noise = lambda v: v / 10 * np.random.normal(0, 1/2)\n",
    "\n",
    "sim += TransactionsSampler(ts_sampler, AmountSampler(-1400.00, noise=noise), description=\"housing\")\n",
    "sim += TransactionsSampler(ts_sampler, AmountSampler(-850.00), description=\"health\")\n",
    "sim += TransactionsSampler(ts_sampler, AmountSampler(-200.00), description=\"food\")\n",
    "sim += TransactionsSampler(ts_sampler, AmountSampler(3000.00), description=\"income\")\n",
    "sim += TransactionsSampler(ts_sampler, AmountSampler(100.00), description=\"utilities\")\n",
    "sim += TransactionsSampler(ts_sampler, AmountSampler(100.00), description=\"transportation\")\n",
    "sim += TransactionsSampler(ts_sampler, AmountSampler(-100.00), description=\"personal\")\n",
    "\n",
    "transactions = sim.sample()\n",
    "\n",
    "df_patterns = pd.read_csv(StringIO(\"\"\"pattern;label\n",
    "        housing;housing\n",
    "        health;health\n",
    "        food;food\n",
    "        income;income\n",
    "        \"\"\"), sep=\";\")\n",
    "\n",
    "patterns_dfs = {\"category\": df_patterns}\n",
    "labels = Labels.load_df(transactions, patterns_dfs)\n",
    "account = SimulateAccount(myf.config, \"simulation\", transactions, labels).account\n",
    "print(account.df())"
   ]
  },
  {
   "cell_type": "code",
   "execution_count": 13,
   "metadata": {},
   "outputs": [],
   "source": [
    "myf.accounts = { \"sim\": account }"
   ]
  },
  {
   "cell_type": "code",
   "execution_count": 14,
   "metadata": {},
   "outputs": [
    {
     "name": "stdout",
     "output_type": "stream",
     "text": [
      "\u001b[32mINFO    \u001b[0m| simulation                              : [2020-01-01,2020-12-01] (86) +7,573.67\n"
     ]
    }
   ],
   "source": [
    "myf.overview()"
   ]
  },
  {
   "cell_type": "code",
   "execution_count": 15,
   "metadata": {},
   "outputs": [
    {
     "data": {
      "application/vnd.jupyter.widget-view+json": {
       "model_id": "02bf0c8a7aa64e3eaa5e5c97ce2ff984",
       "version_major": 2,
       "version_minor": 0
      },
      "text/plain": [
       "GridspecLayout(children=(Dropdown(description='Account:', layout=Layout(grid_area='widget001'), options=('sim'…"
      ]
     },
     "metadata": {},
     "output_type": "display_data"
    },
    {
     "data": {
      "application/vnd.jupyter.widget-view+json": {
       "model_id": "752daf548efe4ab7abdce38b3bc08d8e",
       "version_major": 2,
       "version_minor": 0
      },
      "text/plain": [
       "GridspecLayout(children=(Button(description='Overview', layout=Layout(grid_area='widget001', height='auto', wi…"
      ]
     },
     "metadata": {},
     "output_type": "display_data"
    },
    {
     "data": {
      "application/vnd.jupyter.widget-view+json": {
       "model_id": "04d22dfbd2604adc9270e39120a67173",
       "version_major": 2,
       "version_minor": 0
      },
      "text/plain": [
       "Tab(children=(Output(), Output(layout=Layout(height='400px', overflow_y='auto')), Output(), Output(), Output()…"
      ]
     },
     "metadata": {},
     "output_type": "display_data"
    },
    {
     "data": {
      "application/vnd.jupyter.widget-view+json": {
       "model_id": "945e9686bf3144779caa4d41f364a7c2",
       "version_major": 2,
       "version_minor": 0
      },
      "text/plain": [
       "Output()"
      ]
     },
     "metadata": {},
     "output_type": "display_data"
    }
   ],
   "source": [
    "ao = AccountOverview(myf)\n",
    "ao.display()\n"
   ]
  },
  {
   "cell_type": "code",
   "execution_count": 17,
   "metadata": {},
   "outputs": [
    {
     "data": {
      "text/html": [
       "<div>\n",
       "<style scoped>\n",
       "    .dataframe tbody tr th:only-of-type {\n",
       "        vertical-align: middle;\n",
       "    }\n",
       "\n",
       "    .dataframe tbody tr th {\n",
       "        vertical-align: top;\n",
       "    }\n",
       "\n",
       "    .dataframe thead th {\n",
       "        text-align: right;\n",
       "    }\n",
       "</style>\n",
       "<table border=\"1\" class=\"dataframe\">\n",
       "  <thead>\n",
       "    <tr style=\"text-align: right;\">\n",
       "      <th></th>\n",
       "      <th>timestamp</th>\n",
       "      <th>balance</th>\n",
       "      <th>amount</th>\n",
       "      <th>currency</th>\n",
       "      <th>description</th>\n",
       "      <th>type</th>\n",
       "      <th>label.category</th>\n",
       "    </tr>\n",
       "  </thead>\n",
       "  <tbody>\n",
       "    <tr>\n",
       "      <th>0</th>\n",
       "      <td>2020-01-01</td>\n",
       "      <td>0</td>\n",
       "      <td>0</td>\n",
       "      <td>EUR</td>\n",
       "      <td></td>\n",
       "      <td>ib</td>\n",
       "      <td>unknown</td>\n",
       "    </tr>\n",
       "    <tr>\n",
       "      <th>1</th>\n",
       "      <td>2020-01-01</td>\n",
       "      <td>-1418.2</td>\n",
       "      <td>-1418.2</td>\n",
       "      <td>EUR</td>\n",
       "      <td>housing</td>\n",
       "      <td>t</td>\n",
       "      <td>housing</td>\n",
       "    </tr>\n",
       "    <tr>\n",
       "      <th>2</th>\n",
       "      <td>2020-01-01</td>\n",
       "      <td>-1318.2</td>\n",
       "      <td>100</td>\n",
       "      <td>EUR</td>\n",
       "      <td>utilities</td>\n",
       "      <td>t</td>\n",
       "      <td>unknown</td>\n",
       "    </tr>\n",
       "    <tr>\n",
       "      <th>3</th>\n",
       "      <td>2020-01-01</td>\n",
       "      <td>-1518.2</td>\n",
       "      <td>-200</td>\n",
       "      <td>EUR</td>\n",
       "      <td>food</td>\n",
       "      <td>t</td>\n",
       "      <td>food</td>\n",
       "    </tr>\n",
       "    <tr>\n",
       "      <th>4</th>\n",
       "      <td>2020-01-01</td>\n",
       "      <td>-1418.2</td>\n",
       "      <td>100</td>\n",
       "      <td>EUR</td>\n",
       "      <td>transportation</td>\n",
       "      <td>t</td>\n",
       "      <td>unknown</td>\n",
       "    </tr>\n",
       "    <tr>\n",
       "      <th>...</th>\n",
       "      <td>...</td>\n",
       "      <td>...</td>\n",
       "      <td>...</td>\n",
       "      <td>...</td>\n",
       "      <td>...</td>\n",
       "      <td>...</td>\n",
       "      <td>...</td>\n",
       "    </tr>\n",
       "    <tr>\n",
       "      <th>81</th>\n",
       "      <td>2020-12-01</td>\n",
       "      <td>4573.67</td>\n",
       "      <td>-850</td>\n",
       "      <td>EUR</td>\n",
       "      <td>health</td>\n",
       "      <td>t</td>\n",
       "      <td>health</td>\n",
       "    </tr>\n",
       "    <tr>\n",
       "      <th>82</th>\n",
       "      <td>2020-12-01</td>\n",
       "      <td>7573.67</td>\n",
       "      <td>3000</td>\n",
       "      <td>EUR</td>\n",
       "      <td>income</td>\n",
       "      <td>t</td>\n",
       "      <td>income</td>\n",
       "    </tr>\n",
       "    <tr>\n",
       "      <th>83</th>\n",
       "      <td>2020-12-01</td>\n",
       "      <td>7673.67</td>\n",
       "      <td>100</td>\n",
       "      <td>EUR</td>\n",
       "      <td>transportation</td>\n",
       "      <td>t</td>\n",
       "      <td>unknown</td>\n",
       "    </tr>\n",
       "    <tr>\n",
       "      <th>84</th>\n",
       "      <td>2020-12-01</td>\n",
       "      <td>7573.67</td>\n",
       "      <td>-100</td>\n",
       "      <td>EUR</td>\n",
       "      <td>personal</td>\n",
       "      <td>t</td>\n",
       "      <td>unknown</td>\n",
       "    </tr>\n",
       "    <tr>\n",
       "      <th>85</th>\n",
       "      <td>2020-12-01</td>\n",
       "      <td>7573.67</td>\n",
       "      <td>0</td>\n",
       "      <td>EUR</td>\n",
       "      <td></td>\n",
       "      <td>fb</td>\n",
       "      <td>unknown</td>\n",
       "    </tr>\n",
       "  </tbody>\n",
       "</table>\n",
       "<p>86 rows × 7 columns</p>\n",
       "</div>"
      ],
      "text/plain": [
       "    timestamp  balance  amount currency     description type label.category\n",
       "0  2020-01-01        0       0      EUR                   ib        unknown\n",
       "1  2020-01-01  -1418.2 -1418.2      EUR         housing    t        housing\n",
       "2  2020-01-01  -1318.2     100      EUR       utilities    t        unknown\n",
       "3  2020-01-01  -1518.2    -200      EUR            food    t           food\n",
       "4  2020-01-01  -1418.2     100      EUR  transportation    t        unknown\n",
       "..        ...      ...     ...      ...             ...  ...            ...\n",
       "81 2020-12-01  4573.67    -850      EUR          health    t         health\n",
       "82 2020-12-01  7573.67    3000      EUR          income    t         income\n",
       "83 2020-12-01  7673.67     100      EUR  transportation    t        unknown\n",
       "84 2020-12-01  7573.67    -100      EUR        personal    t        unknown\n",
       "85 2020-12-01  7573.67       0      EUR                   fb        unknown\n",
       "\n",
       "[86 rows x 7 columns]"
      ]
     },
     "execution_count": 17,
     "metadata": {},
     "output_type": "execute_result"
    }
   ],
   "source": [
    "# transactions as Pandas dataframe\n",
    "account.df()"
   ]
  },
  {
   "cell_type": "code",
   "execution_count": null,
   "metadata": {},
   "outputs": [],
   "source": []
  }
 ],
 "metadata": {
  "kernelspec": {
   "display_name": "Python 3",
   "language": "python",
   "name": "python3"
  },
  "language_info": {
   "codemirror_mode": {
    "name": "ipython",
    "version": 3
   },
   "file_extension": ".py",
   "mimetype": "text/x-python",
   "name": "python",
   "nbconvert_exporter": "python",
   "pygments_lexer": "ipython3",
   "version": "3.8.2"
  }
 },
 "nbformat": 4,
 "nbformat_minor": 4
}
